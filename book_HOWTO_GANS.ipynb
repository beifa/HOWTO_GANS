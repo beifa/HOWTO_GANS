{
  "nbformat": 4,
  "nbformat_minor": 0,
  "metadata": {
    "colab": {
      "name": "book_HOWTO_GANS.ipynb",
      "provenance": [],
      "collapsed_sections": [],
      "authorship_tag": "ABX9TyNvPgIRvqGSn2LIqbv+/+w8"
    },
    "kernelspec": {
      "name": "python3",
      "display_name": "Python 3"
    },
    "language_info": {
      "name": "python"
    },
    "widgets": {
      "application/vnd.jupyter.widget-state+json": {
        "99dce34f75a24ac0b92c44f52eb6885f": {
          "model_module": "@jupyter-widgets/controls",
          "model_name": "HBoxModel",
          "model_module_version": "1.5.0",
          "state": {
            "_view_name": "HBoxView",
            "_dom_classes": [],
            "_model_name": "HBoxModel",
            "_view_module": "@jupyter-widgets/controls",
            "_model_module_version": "1.5.0",
            "_view_count": null,
            "_view_module_version": "1.5.0",
            "box_style": "",
            "layout": "IPY_MODEL_5010a38731c14ea0a80f04cf1244b680",
            "_model_module": "@jupyter-widgets/controls",
            "children": [
              "IPY_MODEL_77c04d5fa9284b178b75fdb85dedc0b5",
              "IPY_MODEL_986ac1d6cbaf42c5a92e681c59db8932",
              "IPY_MODEL_ba7451a3cbcd4ea2b8cae55a4839fdaf"
            ]
          }
        },
        "5010a38731c14ea0a80f04cf1244b680": {
          "model_module": "@jupyter-widgets/base",
          "model_name": "LayoutModel",
          "model_module_version": "1.2.0",
          "state": {
            "_view_name": "LayoutView",
            "grid_template_rows": null,
            "right": null,
            "justify_content": null,
            "_view_module": "@jupyter-widgets/base",
            "overflow": null,
            "_model_module_version": "1.2.0",
            "_view_count": null,
            "flex_flow": null,
            "width": null,
            "min_width": null,
            "border": null,
            "align_items": null,
            "bottom": null,
            "_model_module": "@jupyter-widgets/base",
            "top": null,
            "grid_column": null,
            "overflow_y": null,
            "overflow_x": null,
            "grid_auto_flow": null,
            "grid_area": null,
            "grid_template_columns": null,
            "flex": null,
            "_model_name": "LayoutModel",
            "justify_items": null,
            "grid_row": null,
            "max_height": null,
            "align_content": null,
            "visibility": null,
            "align_self": null,
            "height": null,
            "min_height": null,
            "padding": null,
            "grid_auto_rows": null,
            "grid_gap": null,
            "max_width": null,
            "order": null,
            "_view_module_version": "1.2.0",
            "grid_template_areas": null,
            "object_position": null,
            "object_fit": null,
            "grid_auto_columns": null,
            "margin": null,
            "display": null,
            "left": null
          }
        },
        "77c04d5fa9284b178b75fdb85dedc0b5": {
          "model_module": "@jupyter-widgets/controls",
          "model_name": "HTMLModel",
          "model_module_version": "1.5.0",
          "state": {
            "_view_name": "HTMLView",
            "style": "IPY_MODEL_e7a8ee08d13948798c93eee34e91a3ce",
            "_dom_classes": [],
            "description": "",
            "_model_name": "HTMLModel",
            "placeholder": "​",
            "_view_module": "@jupyter-widgets/controls",
            "_model_module_version": "1.5.0",
            "value": "tr_loader_iter: 100%",
            "_view_count": null,
            "_view_module_version": "1.5.0",
            "description_tooltip": null,
            "_model_module": "@jupyter-widgets/controls",
            "layout": "IPY_MODEL_4b4d797a775648a29b71a451c0fb9414"
          }
        },
        "986ac1d6cbaf42c5a92e681c59db8932": {
          "model_module": "@jupyter-widgets/controls",
          "model_name": "FloatProgressModel",
          "model_module_version": "1.5.0",
          "state": {
            "_view_name": "ProgressView",
            "style": "IPY_MODEL_3674df84ea8c4190bf3a686c3dd7649b",
            "_dom_classes": [],
            "description": "",
            "_model_name": "FloatProgressModel",
            "bar_style": "success",
            "max": 1875,
            "_view_module": "@jupyter-widgets/controls",
            "_model_module_version": "1.5.0",
            "value": 1875,
            "_view_count": null,
            "_view_module_version": "1.5.0",
            "orientation": "horizontal",
            "min": 0,
            "description_tooltip": null,
            "_model_module": "@jupyter-widgets/controls",
            "layout": "IPY_MODEL_8e1a545322ee41868004853e4bebb312"
          }
        },
        "ba7451a3cbcd4ea2b8cae55a4839fdaf": {
          "model_module": "@jupyter-widgets/controls",
          "model_name": "HTMLModel",
          "model_module_version": "1.5.0",
          "state": {
            "_view_name": "HTMLView",
            "style": "IPY_MODEL_641bbbf1240048838d3771e61db1bfed",
            "_dom_classes": [],
            "description": "",
            "_model_name": "HTMLModel",
            "placeholder": "​",
            "_view_module": "@jupyter-widgets/controls",
            "_model_module_version": "1.5.0",
            "value": " 1875/1875 [00:39&lt;00:00, 47.32it/s]",
            "_view_count": null,
            "_view_module_version": "1.5.0",
            "description_tooltip": null,
            "_model_module": "@jupyter-widgets/controls",
            "layout": "IPY_MODEL_f9fcf511a3fa4484977f24cf06fd80c0"
          }
        },
        "e7a8ee08d13948798c93eee34e91a3ce": {
          "model_module": "@jupyter-widgets/controls",
          "model_name": "DescriptionStyleModel",
          "model_module_version": "1.5.0",
          "state": {
            "_view_name": "StyleView",
            "_model_name": "DescriptionStyleModel",
            "description_width": "",
            "_view_module": "@jupyter-widgets/base",
            "_model_module_version": "1.5.0",
            "_view_count": null,
            "_view_module_version": "1.2.0",
            "_model_module": "@jupyter-widgets/controls"
          }
        },
        "4b4d797a775648a29b71a451c0fb9414": {
          "model_module": "@jupyter-widgets/base",
          "model_name": "LayoutModel",
          "model_module_version": "1.2.0",
          "state": {
            "_view_name": "LayoutView",
            "grid_template_rows": null,
            "right": null,
            "justify_content": null,
            "_view_module": "@jupyter-widgets/base",
            "overflow": null,
            "_model_module_version": "1.2.0",
            "_view_count": null,
            "flex_flow": null,
            "width": null,
            "min_width": null,
            "border": null,
            "align_items": null,
            "bottom": null,
            "_model_module": "@jupyter-widgets/base",
            "top": null,
            "grid_column": null,
            "overflow_y": null,
            "overflow_x": null,
            "grid_auto_flow": null,
            "grid_area": null,
            "grid_template_columns": null,
            "flex": null,
            "_model_name": "LayoutModel",
            "justify_items": null,
            "grid_row": null,
            "max_height": null,
            "align_content": null,
            "visibility": null,
            "align_self": null,
            "height": null,
            "min_height": null,
            "padding": null,
            "grid_auto_rows": null,
            "grid_gap": null,
            "max_width": null,
            "order": null,
            "_view_module_version": "1.2.0",
            "grid_template_areas": null,
            "object_position": null,
            "object_fit": null,
            "grid_auto_columns": null,
            "margin": null,
            "display": null,
            "left": null
          }
        },
        "3674df84ea8c4190bf3a686c3dd7649b": {
          "model_module": "@jupyter-widgets/controls",
          "model_name": "ProgressStyleModel",
          "model_module_version": "1.5.0",
          "state": {
            "_view_name": "StyleView",
            "_model_name": "ProgressStyleModel",
            "description_width": "",
            "_view_module": "@jupyter-widgets/base",
            "_model_module_version": "1.5.0",
            "_view_count": null,
            "_view_module_version": "1.2.0",
            "bar_color": null,
            "_model_module": "@jupyter-widgets/controls"
          }
        },
        "8e1a545322ee41868004853e4bebb312": {
          "model_module": "@jupyter-widgets/base",
          "model_name": "LayoutModel",
          "model_module_version": "1.2.0",
          "state": {
            "_view_name": "LayoutView",
            "grid_template_rows": null,
            "right": null,
            "justify_content": null,
            "_view_module": "@jupyter-widgets/base",
            "overflow": null,
            "_model_module_version": "1.2.0",
            "_view_count": null,
            "flex_flow": null,
            "width": null,
            "min_width": null,
            "border": null,
            "align_items": null,
            "bottom": null,
            "_model_module": "@jupyter-widgets/base",
            "top": null,
            "grid_column": null,
            "overflow_y": null,
            "overflow_x": null,
            "grid_auto_flow": null,
            "grid_area": null,
            "grid_template_columns": null,
            "flex": null,
            "_model_name": "LayoutModel",
            "justify_items": null,
            "grid_row": null,
            "max_height": null,
            "align_content": null,
            "visibility": null,
            "align_self": null,
            "height": null,
            "min_height": null,
            "padding": null,
            "grid_auto_rows": null,
            "grid_gap": null,
            "max_width": null,
            "order": null,
            "_view_module_version": "1.2.0",
            "grid_template_areas": null,
            "object_position": null,
            "object_fit": null,
            "grid_auto_columns": null,
            "margin": null,
            "display": null,
            "left": null
          }
        },
        "641bbbf1240048838d3771e61db1bfed": {
          "model_module": "@jupyter-widgets/controls",
          "model_name": "DescriptionStyleModel",
          "model_module_version": "1.5.0",
          "state": {
            "_view_name": "StyleView",
            "_model_name": "DescriptionStyleModel",
            "description_width": "",
            "_view_module": "@jupyter-widgets/base",
            "_model_module_version": "1.5.0",
            "_view_count": null,
            "_view_module_version": "1.2.0",
            "_model_module": "@jupyter-widgets/controls"
          }
        },
        "f9fcf511a3fa4484977f24cf06fd80c0": {
          "model_module": "@jupyter-widgets/base",
          "model_name": "LayoutModel",
          "model_module_version": "1.2.0",
          "state": {
            "_view_name": "LayoutView",
            "grid_template_rows": null,
            "right": null,
            "justify_content": null,
            "_view_module": "@jupyter-widgets/base",
            "overflow": null,
            "_model_module_version": "1.2.0",
            "_view_count": null,
            "flex_flow": null,
            "width": null,
            "min_width": null,
            "border": null,
            "align_items": null,
            "bottom": null,
            "_model_module": "@jupyter-widgets/base",
            "top": null,
            "grid_column": null,
            "overflow_y": null,
            "overflow_x": null,
            "grid_auto_flow": null,
            "grid_area": null,
            "grid_template_columns": null,
            "flex": null,
            "_model_name": "LayoutModel",
            "justify_items": null,
            "grid_row": null,
            "max_height": null,
            "align_content": null,
            "visibility": null,
            "align_self": null,
            "height": null,
            "min_height": null,
            "padding": null,
            "grid_auto_rows": null,
            "grid_gap": null,
            "max_width": null,
            "order": null,
            "_view_module_version": "1.2.0",
            "grid_template_areas": null,
            "object_position": null,
            "object_fit": null,
            "grid_auto_columns": null,
            "margin": null,
            "display": null,
            "left": null
          }
        }
      }
    }
  },
  "cells": [
    {
      "cell_type": "markdown",
      "metadata": {
        "id": "HK3c5Z29sQzV"
      },
      "source": [
        "## Chapter 1"
      ]
    },
    {
      "cell_type": "markdown",
      "metadata": {
        "id": "Jy5iS4QTsHFy"
      },
      "source": [
        "###What are Generative Adversarial Networks\n",
        "\n",
        "Генеративные состязательные сети, или сокращенно GAN, представляют собой подход к генеративному моделированию.\n",
        "с использованием методов глубокого обучения, таких как сверточные нейронные сети.\n",
        "\n",
        "#### Генеративное моделирование - это\n",
        "задача обучения без учителя в машинном обучении, которая включает в себя автоматическое обнаружение и\n",
        "изучение закономерностей или закономерностей во входных данных таким образом, чтобы модель могла быть использована для генерировать или выводить новые примеры, которые, вероятно, могли быть взяты из исходного набора данных.\n",
        "\n",
        "GAN - это умный способ обучения генеративной модели, представляющий проблему как контролируемую\n",
        "проблема обучения с двумя подмоделями:\n",
        "- модель генератора, которую мы обучаем для создания новых примеры и \n",
        "- модель дискриминатора, которая пытается классифицировать примеры как реальные (из\n",
        "домен) или поддельный (сгенерированный).\n",
        "\n",
        "Две модели обучаются вместе в состязательной игре с нулевой суммой, до тех пор, пока модель дискриминатора не обманут примерно половину времени, то есть модель генератора генерирует правдоподобные примеры.\n",
        "\n",
        "\n",
        "**Модель обучена путем демонстрации примеров входных данных, прогнозирования выходных данных и корректировки модели для того чтобы сделать результаты более похожими на ожидаемые.**\n",
        "\n",
        "1. Генератор. Модель, которая используется для создания новых правдоподобных примеров из проблемы\n",
        "домен.\n",
        "2. Дискриминатор. Модель, которая используется для классификации примеров как реальных (из предметной области) или поддельный (сгенерированный).\n",
        "\n",
        "Генеративные состязательные сети основаны на теоретико-игровом сценарии, в котором\n",
        "сеть генератора должна конкурировать с противником. Генераторная сеть непосредственно производит образцы. Его противник, дискриминаторная сеть, пытается\n",
        "различать выборки, взятые из обучающих данных, и выборки, взятые из генератор.\n",
        "\n",
        "\n",
        "#### Модель генератора\n",
        "Модель генератора принимает случайный вектор фиксированной длины в качестве входных данных и генерирует выборку в домен, например изображение. Вектор выбирается случайным образом из гауссова распределения и имеет вид используется в качестве затравки или источника шума для генеративного процесса. Чтобы было ясно, вход - это вектор случайные числа. Это не изображение или сплющенное изображение и не имеет другого значения, кроме\n",
        "значение, применяемое моделью генератора. После тренировки точки в этом многомерном векторе\n",
        "пространство будет соответствовать точкам в проблемной области, образуя сжатое представление\n",
        "распределения данных. Это векторное пространство называется скрытым пространством или векторным пространством, состоит из скрытых переменных.\n",
        "\n",
        "Скрытые переменные или скрытые переменные - это те переменные, которые важны для домена, но не наблюдаются напрямую.\n",
        "Скрытая переменная - это случайная величина, которую мы не можем наблюдать напрямую.\n",
        "\n",
        "Мы часто называем скрытые переменные или скрытое пространство проекцией или сжатием\n",
        "распределение данных. То есть скрытое пространство обеспечивает сжатие или высокоуровневые концепции\n",
        "наблюдаемые необработанные данные, такие как распределение входных данных. \n",
        "\n",
        "####Модель дискриминатора\n",
        "Модель дискриминатора берет пример из проблемной области в качестве входных данных (реальных или сгенерированных).\n",
        "и предсказывает метку двоичного класса, настоящую или фальшивую (сгенерированную). Настоящий пример исходит из\n",
        "набор обучающих данных. Сгенерированные примеры выводятся моделью генератора. Дискриминатор это нормальная классификационная модель.\n",
        "\n",
        "После процесса обучения модель дискриминатора отбрасывается, так как нас интересует\n",
        "генератор. "
      ]
    },
    {
      "cell_type": "markdown",
      "metadata": {
        "id": "jxk1F_DJ7VAa"
      },
      "source": [
        "Генератор генерирует партию образцов, и они вместе с реальными примеры из домена предоставляются дискриминатору и классифицируются как настоящие или поддельные.\n",
        "\n",
        "Затем дискриминатор обновляется, чтобы лучше различать реальные и поддельные образцы.\n",
        "\n",
        "В следующем раунде, что важно, генератор обновляется в зависимости от того, насколько хорошо или нет\n",
        "сгенерированные выборки обманули дискриминатор."
      ]
    },
    {
      "cell_type": "markdown",
      "metadata": {
        "id": "loIRqjx0-H2L"
      },
      "source": [
        "## Chapter2"
      ]
    },
    {
      "cell_type": "markdown",
      "metadata": {
        "id": "SOLyfGkX-PM5"
      },
      "source": [
        "###How to Develop Deep Learning Models\n",
        "\n",
        "Upsampling\n",
        "повышающая дискретизация слой, который просто удваивает размеры входного и транспонированного сверточного слоя который выполняет операцию обратной свертки.\n",
        "\n",
        "Транспонированный сверточный слой сложнее простого слоя с повышающей дискретизацией. Просто способ думать об этом заключается в том, что он одновременно выполняет операцию повышения дискретизации и интерпретирует грубую\n",
        "входные данные для заполнения деталей при повышении дискретизации"
      ]
    },
    {
      "cell_type": "markdown",
      "metadata": {
        "id": "y4escmM9QvFD"
      },
      "source": [
        "##Chapter 4\n"
      ]
    },
    {
      "cell_type": "markdown",
      "metadata": {
        "id": "mLUHBA_XQyUn"
      },
      "source": [
        "###How to Implement the GAN Training\n",
        "\n",
        "Внешний цикл алгоритм включает в себя итерацию шагов для обучения моделей в архитектуре. Один цикл\n",
        "через этот цикл не эпоха: это единичное обновление, состоящее из определенных пакетных обновлений для\n",
        "модели дискриминатора и генератора. Эпоха определяется как один цикл через набор обучающих данных,\n",
        "где образцы в наборе обучающих данных используются для обновления весов модели в мини-пакетах.\n",
        "```\n",
        "# gan training algorithm\n",
        "def train_gan(dataset, n_epochs, n_batch):\n",
        "    batches_per_epoch = int(len(dataset) / n_batch)\n",
        "    n_steps = batches_per_epoch * n_epochs\n",
        "    for i in range(n_steps):\n",
        "        # update the discriminator model\n",
        "        # ...\n",
        "        # update the generator model\n",
        "        # ...\n",
        "```\n",
        "\n",
        "Loss:\n",
        "\n",
        "Модель дискриминатора будет обучена предсказывать вероятность реальности данного входное изображение, которое можно интерпретировать как метку класса class = 0 для подделки и class = 1 для реального.\n",
        "\n",
        "Генератор обучен максимизировать дискриминатор, предсказывающий высокую вероятность класса = 1\n",
        "для сгенерированных (поддельных) изображений.\n",
        "\n",
        "Например, если дискриминатор предсказывает низкую среднюю вероятность быть реальным для\n",
        "пакет сгенерированных изображений, то это приведет к распространению большого сигнала ошибки в обратном направлении в генератор с учетом ожидаемой вероятности для образцов было 1,0 для реального. Этот большой\n",
        "сигнал ошибки, в свою очередь, приводит к относительно большим изменениям в генераторе, чтобы, надеюсь, улучшить его возможность создания поддельных образцов в следующей партии.\n",
        "\n",
        "https://github.com/soumith/ganhacks\n",
        "hacks more stable train gans:\n",
        "- downsample, stride of (1,1) to change it to (2,2)\n",
        "- Conv2DTranspose\n",
        "- Use Leaky ReLU\n",
        "- Use Batch Normalization\n",
        "- Use Gaussian Weight Initialization\n",
        "- Use Adam Stochastic Gradient Descent\n",
        "- Scale Images to the Range [-1,1]\n",
        "Рекомендуется использовать функцию активации гиперболического тангенса в качестве выхода из\n",
        "модель генератора. Таким образом, также рекомендуется, чтобы реальные изображения, используемые для обучения дискриминатора масштабируются так, чтобы их значения пикселей находились в диапазоне [-1,1]. Это сделано для того, чтобы дискриминатор всегда будет получать изображения в качестве входных, настоящие и поддельные, которые имеют значения пикселей в одном и том же диапазоне.\n",
        "\n",
        "-Separate Batches of Real and Fake Images\n",
        "Модель дискриминатора обучается с использованием стохастического градиентного спуска с минипакетами. В\n",
        "Лучше всего обновлять дискриминатор отдельными партиями реальных и поддельных изображений.\n",
        "чем объединение реальных и поддельных изображений в один пакет\n",
        "```\n",
        "X_real, y_real = ...\n",
        "discriminator.train_on_batch(X_real, y_real)\n",
        "X_fake, y_fake = ...\n",
        "discriminator.train_on_batch(X_fake, y_fake)\n",
        "```\n",
        "- Use Label Smoothing\n",
        "Рекомендуется использовать программные метки, например значения немного больше или меньше.\n",
        "чем 1,0 или чуть больше 0,0 для реальных и поддельных изображений соответственно, где вариация для\n",
        "каждое изображение случайное.\n",
        "```\n",
        "# example of smoothing class=1 to [0.7, 1.2]\n",
        "def smooth_positive_labels(y):\n",
        "return y - 0.3 + (random(y.shape) * 0.5)\n",
        "```\n",
        "- Use Noisy Labels\n",
        "создание 1000 образцов реальных (класс = 1) этикеток и их переворачивание с вероятностью 5%, затем\n",
        "проделать то же самое с 1000 образцами поддельных (класс = 0) этикеток"
      ]
    },
    {
      "cell_type": "markdown",
      "metadata": {
        "id": "VsAw9wiL-ANT"
      },
      "source": [
        "## Chapter 6(GAN Basics)\n",
        "\n"
      ]
    },
    {
      "cell_type": "markdown",
      "metadata": {
        "id": "tYqmhbGNawt9"
      },
      "source": [
        "### 1D GAN"
      ]
    },
    {
      "cell_type": "code",
      "metadata": {
        "id": "iQEgq4G1sGJ6"
      },
      "source": [
        "import os\n",
        "import torch\n",
        "import random\n",
        "import torch.nn as nn\n",
        "import torch.optim as optim\n",
        "import numpy as np\n",
        "import matplotlib.pyplot as plt\n",
        "\n",
        "from tqdm.auto import tqdm\n",
        "from tqdm import trange\n",
        "\n",
        "import torchvision\n",
        "import torchvision.transforms as transforms\n",
        "SEED = 13\n",
        "\n",
        "def set_seed(seed: int) -> None:\n",
        "    random.seed(seed)\n",
        "    os.environ[\"PYTHONHASHSEED\"] = str(seed)\n",
        "    np.random.seed(seed)\n",
        "    torch.manual_seed(seed)\n",
        "    torch.cuda.manual_seed(seed)\n",
        "    torch.backends.cudnn.deterministic = True\n",
        "    torch.backends.cudnn.benchmark = True\n",
        "\n",
        "device = torch.device(\"cuda:0\" if (torch.cuda.is_available() and ngpu > 0) else \"cpu\")"
      ],
      "execution_count": 1,
      "outputs": []
    },
    {
      "cell_type": "code",
      "metadata": {
        "id": "CfZ_7Wzw02DZ",
        "colab": {
          "base_uri": "https://localhost:8080/",
          "height": 282
        },
        "outputId": "28e49358-5e48-482b-a581-0fc26d047c07"
      },
      "source": [
        "def func(n: int) -> int:\n",
        "    x = torch.randn(n, dtype=torch.float32)\n",
        "    xx = x * x\n",
        "    x = x.reshape(n,1)\n",
        "    xx = xx.reshape(n,1)\n",
        "    data = torch.hstack((x, xx))\n",
        "    return data\n",
        "\n",
        "data = func(100)\n",
        "plt.plot(data[:, 0], data[:, 1], '.')"
      ],
      "execution_count": null,
      "outputs": [
        {
          "output_type": "execute_result",
          "data": {
            "text/plain": [
              "[<matplotlib.lines.Line2D at 0x7fac20782790>]"
            ]
          },
          "metadata": {},
          "execution_count": 119
        },
        {
          "output_type": "display_data",
          "data": {
            "image/png": "[encoded data removed]",
            "text/plain": [
              "<Figure size 432x288 with 1 Axes>"
            ]
          },
          "metadata": {
            "needs_background": "light"
          }
        }
      ]
    },
    {
      "cell_type": "code",
      "metadata": {
        "id": "xWh3TXWm0191",
        "colab": {
          "base_uri": "https://localhost:8080/"
        },
        "outputId": "17af7f84-96e5-487b-9c21-59fec8f5764c"
      },
      "source": [
        "class Desc_r(nn.Module):\n",
        "    \"\"\"   \n",
        "    Дискриминатор - это модель с двумерным входом и одномерным выходом. \n",
        "    Он получит выборку из реальных данных или от генератора и обеспечит\n",
        "    вероятность того, что выборка принадлежит реальным обучающим данным.    \n",
        "    \"\"\"\n",
        "\n",
        "    def __init__(self, input: int):\n",
        "        super().__init__()\n",
        "        self.model = nn.Sequential(\n",
        "            nn.Linear(input, 128),\n",
        "            nn.ReLU(),        \n",
        "            nn.Linear(128, 64),\n",
        "            nn.ReLU(),    \n",
        "            nn.Linear(64, 1),\n",
        "            nn.Sigmoid(),\n",
        "        )\n",
        "\n",
        "    def forward(self, data):\n",
        "        x = self.model(data)\n",
        "        return x\n",
        "\n",
        "\n",
        "class Gener_r(nn.Module):\n",
        "    \"\"\"\n",
        "    генератор - это модель, которая берет на вход выборки из скрытого \n",
        "    пространства и генерирует данные, похожие на данные в обучающем наборе.\n",
        "    \"\"\"\n",
        "\n",
        "    def __init__(self, input: int):\n",
        "        super().__init__()\n",
        "        self.model = nn.Sequential(\n",
        "            nn.Linear(input, 32),\n",
        "            nn.ReLU(),\n",
        "            nn.Linear(32, 12),\n",
        "            nn.ReLU(),\n",
        "            nn.Linear(12, 2),\n",
        "        )\n",
        "\n",
        "    def forward(self, data):\n",
        "        x = self.model(data)\n",
        "        return x\n",
        "\n",
        "    \n",
        "\n",
        "batch = 32\n",
        "epochs = 1000\n",
        "d_model = Desc_r(input = 2)\n",
        "g_model = Gener_r(input = 2)\n",
        "loss = nn.BCELoss()\n",
        "d_opt = optim.Adam(d_model.parameters())\n",
        "g_opt = optim.Adam(g_model.parameters())\n",
        "\n",
        "\n",
        "\n",
        "tr_loader = torch.utils.data.DataLoader(data, batch_size=batch, shuffle=True, drop_last=True)\n",
        "for ep in range(epochs):\n",
        "    for x in tr_loader:\n",
        "        label = torch.ones((batch, 1))\n",
        "        generator_label = torch.zeros((batch, 1))\n",
        "\n",
        "        fake = torch.randn((batch, 2))\n",
        "        fake_generator = g_model(fake)\n",
        "        \"\"\"\n",
        "        make data:\n",
        "        [\n",
        "            ori, ori, label ori,\n",
        "            0.34, 0,12, 1\n",
        "            ...\n",
        "            fake, fake, fake label,\n",
        "            0.32, 0.10, 0\n",
        "        ]\n",
        "        ori_data batch = 32, len data = 32\n",
        "        fake data batch = 32, len data = 32\n",
        "            cat = [64, 2]\n",
        "        \"\"\"\n",
        "        sample = torch.cat((x, fake_generator))\n",
        "        label_sample = torch.cat((label, generator_label))\n",
        "\n",
        "        #train disc\n",
        "        d_model.zero_grad()\n",
        "        d_out = d_model(sample)\n",
        "        d_loss = loss(d_out, label_sample)\n",
        "        d_loss.backward()\n",
        "        d_opt.step()\n",
        "\n",
        "        #train gen\n",
        "        fake = torch.randn((batch, 2))\n",
        "        g_model.zero_grad()\n",
        "        fake_generator = g_model(fake)\n",
        "        g_d_out = d_model(fake_generator)\n",
        "        g_d_loss = loss(g_d_out, label)\n",
        "        g_d_loss.backward()\n",
        "        g_opt.step()\n",
        "\n",
        "\n",
        "    # Show loss\n",
        "    if ep % 200 == 0:\n",
        "        print(f\"Epoch: {ep} Loss D.: {d_loss}\")\n",
        "        print(f\"Epoch: {ep} Loss G.: {g_d_loss}\")"
      ],
      "execution_count": null,
      "outputs": [
        {
          "output_type": "stream",
          "name": "stdout",
          "text": [
            "Epoch: 0 Loss D.: 0.6760867238044739\n",
            "Epoch: 0 Loss G.: 0.6170979738235474\n",
            "Epoch: 200 Loss D.: 0.646969199180603\n",
            "Epoch: 200 Loss G.: 0.8386499881744385\n",
            "Epoch: 400 Loss D.: 0.643828272819519\n",
            "Epoch: 400 Loss G.: 0.6954761743545532\n",
            "Epoch: 600 Loss D.: 0.6757112741470337\n",
            "Epoch: 600 Loss G.: 0.7397779226303101\n",
            "Epoch: 800 Loss D.: 0.6681113839149475\n",
            "Epoch: 800 Loss G.: 0.8450835943222046\n"
          ]
        }
      ]
    },
    {
      "cell_type": "code",
      "metadata": {
        "id": "tRNrnKCP93-w"
      },
      "source": [
        "latent_space_samples = torch.randn(100, 2)\n",
        "generated_samples = g_model(latent_space_samples)"
      ],
      "execution_count": null,
      "outputs": []
    },
    {
      "cell_type": "code",
      "metadata": {
        "colab": {
          "base_uri": "https://localhost:8080/",
          "height": 282
        },
        "id": "Xx8Ge0K6938h",
        "outputId": "1813951c-a966-4409-d8b7-334a02a85a84"
      },
      "source": [
        "generated_samples = generated_samples.detach()\n",
        "plt.plot(generated_samples[:, 0], generated_samples[:, 1], \".\")"
      ],
      "execution_count": null,
      "outputs": [
        {
          "output_type": "execute_result",
          "data": {
            "text/plain": [
              "[<matplotlib.lines.Line2D at 0x7fac206905d0>]"
            ]
          },
          "metadata": {},
          "execution_count": 125
        },
        {
          "output_type": "display_data",
          "data": {
            "image/png": "[encoded data removed]",
            "text/plain": [
              "<Figure size 432x288 with 1 Axes>"
            ]
          },
          "metadata": {
            "needs_background": "light"
          }
        }
      ]
    },
    {
      "cell_type": "markdown",
      "metadata": {
        "id": "sGEqXg0keHV4"
      },
      "source": [
        "###2D\n"
      ]
    },
    {
      "cell_type": "code",
      "metadata": {
        "id": "LMbnNvvEw82t"
      },
      "source": [
        "transform = transforms.Compose(\n",
        "    [transforms.ToTensor(), transforms.Normalize((0.5,), (0.5,))]\n",
        ")\n",
        "train_set = torchvision.datasets.MNIST(\n",
        "    root=\".\", train=True, download=True, transform=transform\n",
        ")\n",
        "batch_size = 32\n",
        "tr_loader = torch.utils.data.DataLoader(\n",
        "    train_set, batch_size=batch_size, shuffle=True, drop_last = True\n",
        ")\n",
        "real_samples, mnist_labels = next(iter(tr_loader))\n",
        "for i in range(16):\n",
        "    ax = plt.subplot(4, 4, i + 1)\n",
        "    plt.imshow(real_samples[i].reshape(28, 28), cmap=\"gray_r\")\n",
        "    plt.xticks([])\n",
        "    plt.yticks([])"
      ],
      "execution_count": null,
      "outputs": []
    },
    {
      "cell_type": "code",
      "metadata": {
        "id": "KcAY0B36na9b"
      },
      "source": [
        "class Discriminator(nn.Module):\n",
        "\n",
        "    def __init__(self, input: int):\n",
        "        super().__init__()\n",
        "        self.model = nn.Sequential(\n",
        "            nn.Linear(input, 1024),\n",
        "            nn.ReLU(),\n",
        "            nn.Dropout(0.3),        \n",
        "            nn.Linear(1024, 512),\n",
        "            nn.ReLU(),    \n",
        "            nn.Dropout(0.3),\n",
        "            nn.Linear(512, 256),\n",
        "            nn.ReLU(),\n",
        "            nn.Dropout(0.3),\n",
        "            nn.Linear(256, 64),\n",
        "            nn.ReLU(),\n",
        "            nn.Dropout(0.3),\n",
        "            nn.Linear(64, 1),          \n",
        "            nn.Sigmoid()\n",
        "        )\n",
        "\n",
        "    def forward(self, data):\n",
        "        # data 32, 1, 28, 28\n",
        "        data = data.reshape(data.shape[0], 784)\n",
        "        x = self.model(data)\n",
        "        return x\n",
        "\n",
        "\n",
        "class Generator(nn.Module):\n",
        "\n",
        "    def __init__(self, input: int):\n",
        "        super().__init__()\n",
        "        self.model = nn.Sequential(\n",
        "            nn.Linear(input, 64),\n",
        "            nn.ReLU(),        \n",
        "            nn.Linear(64, 256),\n",
        "            nn.ReLU(),    \n",
        "            nn.Linear(256, 512),\n",
        "            nn.ReLU(),\n",
        "            nn.Linear(512, 1024),\n",
        "            nn.ReLU(),\n",
        "            nn.Linear(1024, 784),\n",
        "            #-1, 1          \n",
        "            nn.Tanh()\n",
        "        )\n",
        "\n",
        "    def forward(self, data):\n",
        "        x = self.model(data)\n",
        "        # make image\n",
        "        x = x.reshape(x.shape[0], 1, 28, 28)\n",
        "        return x\n",
        "\n",
        "\n",
        "def tr_one_epoch_discriminator(\n",
        "    model: nn.Module,\n",
        "    train_data: torch.tensor,\n",
        "    target: torch.tensor,\n",
        "    loss_func: nn.BCELoss,\n",
        "    optimizer: optim.Adam\n",
        ") -> torch.tensor:\n",
        "    \"\"\"\n",
        "    train_data: tensor, torch.Size([batch_ori+batch_fake = 64, 1, 28, 28])\n",
        "    target: tensor, torch.Size([batch_ori+batch_fake = 64, 1])\n",
        "    \"\"\"\n",
        "    model.zero_grad()\n",
        "    out = model(train_data)\n",
        "    loss = loss_func(out, target)\n",
        "    loss.backward()\n",
        "    optimizer.step()\n",
        "    return loss\n",
        "\n",
        "\n",
        "def tr_one_epoch_generator(\n",
        "    model: nn.Module,\n",
        "    input_generator: int\n",
        ") -> torch.tensor:\n",
        "    \"\"\"\n",
        "    return: tensor\n",
        "        torch.Size([32, 1, 28, 28])\n",
        "    \"\"\"\n",
        "    fake = torch.randn((batch, input_generator)).to(device=device)\n",
        "    fake_generator = model(fake)\n",
        "    return fake_generator"
      ],
      "execution_count": 3,
      "outputs": []
    },
    {
      "cell_type": "code",
      "metadata": {
        "colab": {
          "base_uri": "https://localhost:8080/",
          "height": 431,
          "referenced_widgets": [
            "99dce34f75a24ac0b92c44f52eb6885f",
            "5010a38731c14ea0a80f04cf1244b680",
            "77c04d5fa9284b178b75fdb85dedc0b5",
            "986ac1d6cbaf42c5a92e681c59db8932",
            "ba7451a3cbcd4ea2b8cae55a4839fdaf",
            "e7a8ee08d13948798c93eee34e91a3ce",
            "4b4d797a775648a29b71a451c0fb9414",
            "3674df84ea8c4190bf3a686c3dd7649b",
            "8e1a545322ee41868004853e4bebb312",
            "641bbbf1240048838d3771e61db1bfed",
            "f9fcf511a3fa4484977f24cf06fd80c0"
          ]
        },
        "id": "VW5oLLFfna6m",
        "outputId": "338f6a72-5086-4f46-86a7-0185b02afe00"
      },
      "source": [
        "batch = 32\n",
        "epochs = 50\n",
        "lr = 0.0002 \n",
        "input_generator = 100\n",
        "input_discriminator = 28*28\n",
        "\n",
        "descriminator = Discriminator(input = input_discriminator).to(device=device)\n",
        "generator = Generator(input = input_generator).to(device=device)\n",
        "loss = nn.BCELoss()\n",
        "d_opt = optim.Adam(descriminator.parameters(), lr= lr)\n",
        "g_opt = optim.Adam(generator.parameters(), lr=lr)\n",
        "epoch_iterator = trange(0, epochs, desc=\"Epoch\")\n",
        "tr_iterator = tqdm(tr_loader, desc='tr_loader_iter: ')\n",
        "set_seed(SEED)\n",
        "for ep in epoch_iterator:\n",
        "    for x,y in tr_iterator:\n",
        "        # x = x.reshape(x.shape[0], 1,28, 28).to(device=device)\n",
        "        x = x.to(device=device)\n",
        "        label = torch.ones((batch, 1)).to(device=device)\n",
        "        generator_label = torch.zeros((batch, 1)).to(device=device)\n",
        "        x_g = tr_one_epoch_generator(generator, input_generator)\n",
        "        generator.zero_grad()\n",
        "        sample = torch.cat((x, x_g))        \n",
        "        label_sample = torch.cat((label, generator_label))\n",
        "        dis_loss = tr_one_epoch_discriminator(descriminator, sample, label_sample, loss, d_opt)\n",
        "        x_g = tr_one_epoch_generator(generator, input_generator)\n",
        "        g_d_out = descriminator(x_g)\n",
        "        g_d_loss = loss(g_d_out, label)\n",
        "        g_d_loss.backward()\n",
        "        g_opt.step()\n",
        "    # Show loss\n",
        "    if ep % 5 == 0:\n",
        "        print(f\"Epoch: {ep} Loss D.: {dis_loss}\")\n",
        "        print(f\"Epoch: {ep} Loss G.: {g_d_loss}\")"
      ],
      "execution_count": 13,
      "outputs": [
        {
          "output_type": "stream",
          "name": "stderr",
          "text": [
            "\rEpoch:   0%|          | 0/50 [00:00<?, ?it/s]"
          ]
        },
        {
          "output_type": "display_data",
          "data": {
            "application/vnd.jupyter.widget-view+json": {
              "model_id": "99dce34f75a24ac0b92c44f52eb6885f",
              "version_minor": 0,
              "version_major": 2
            },
            "text/plain": [
              "tr_loader_iter:   0%|          | 0/1875 [00:00<?, ?it/s]"
            ]
          },
          "metadata": {}
        },
        {
          "output_type": "stream",
          "name": "stderr",
          "text": [
            "\rEpoch:   2%|▏         | 1/50 [00:39<32:11, 39.42s/it]"
          ]
        },
        {
          "output_type": "stream",
          "name": "stdout",
          "text": [
            "Epoch: 0 Loss D.: 0.17834311723709106\n",
            "Epoch: 0 Loss G.: 3.7489519119262695\n"
          ]
        },
        {
          "output_type": "stream",
          "name": "stderr",
          "text": [
            "Epoch:  12%|█▏        | 6/50 [03:33<25:42, 35.06s/it]"
          ]
        },
        {
          "output_type": "stream",
          "name": "stdout",
          "text": [
            "Epoch: 5 Loss D.: 0.26856866478919983\n",
            "Epoch: 5 Loss G.: 2.244929313659668\n"
          ]
        },
        {
          "output_type": "stream",
          "name": "stderr",
          "text": [
            "Epoch:  22%|██▏       | 11/50 [06:27<22:33, 34.70s/it]"
          ]
        },
        {
          "output_type": "stream",
          "name": "stdout",
          "text": [
            "Epoch: 10 Loss D.: 0.3328534960746765\n",
            "Epoch: 10 Loss G.: 1.9488263130187988\n"
          ]
        },
        {
          "output_type": "stream",
          "name": "stderr",
          "text": [
            "Epoch:  32%|███▏      | 16/50 [09:20<19:38, 34.67s/it]"
          ]
        },
        {
          "output_type": "stream",
          "name": "stdout",
          "text": [
            "Epoch: 15 Loss D.: 0.29090940952301025\n",
            "Epoch: 15 Loss G.: 2.0480780601501465\n"
          ]
        },
        {
          "output_type": "stream",
          "name": "stderr",
          "text": [
            "Epoch:  42%|████▏     | 21/50 [12:11<16:35, 34.33s/it]"
          ]
        },
        {
          "output_type": "stream",
          "name": "stdout",
          "text": [
            "Epoch: 20 Loss D.: 0.42828404903411865\n",
            "Epoch: 20 Loss G.: 1.823258399963379\n"
          ]
        },
        {
          "output_type": "stream",
          "name": "stderr",
          "text": [
            "Epoch:  52%|█████▏    | 26/50 [15:03<13:42, 34.27s/it]"
          ]
        },
        {
          "output_type": "stream",
          "name": "stdout",
          "text": [
            "Epoch: 25 Loss D.: 0.4826596975326538\n",
            "Epoch: 25 Loss G.: 1.3472425937652588\n"
          ]
        },
        {
          "output_type": "stream",
          "name": "stderr",
          "text": [
            "Epoch:  62%|██████▏   | 31/50 [17:53<10:48, 34.11s/it]"
          ]
        },
        {
          "output_type": "stream",
          "name": "stdout",
          "text": [
            "Epoch: 30 Loss D.: 0.41177597641944885\n",
            "Epoch: 30 Loss G.: 1.2445441484451294\n"
          ]
        },
        {
          "output_type": "stream",
          "name": "stderr",
          "text": [
            "Epoch:  72%|███████▏  | 36/50 [20:43<07:56, 34.04s/it]"
          ]
        },
        {
          "output_type": "stream",
          "name": "stdout",
          "text": [
            "Epoch: 35 Loss D.: 0.4172746241092682\n",
            "Epoch: 35 Loss G.: 1.4332053661346436\n"
          ]
        },
        {
          "output_type": "stream",
          "name": "stderr",
          "text": [
            "Epoch:  82%|████████▏ | 41/50 [23:34<05:06, 34.10s/it]"
          ]
        },
        {
          "output_type": "stream",
          "name": "stdout",
          "text": [
            "Epoch: 40 Loss D.: 0.5067169070243835\n",
            "Epoch: 40 Loss G.: 1.4828965663909912\n"
          ]
        },
        {
          "output_type": "stream",
          "name": "stderr",
          "text": [
            "Epoch:  92%|█████████▏| 46/50 [26:24<02:16, 34.02s/it]"
          ]
        },
        {
          "output_type": "stream",
          "name": "stdout",
          "text": [
            "Epoch: 45 Loss D.: 0.3246024549007416\n",
            "Epoch: 45 Loss G.: 1.4100353717803955\n"
          ]
        },
        {
          "output_type": "stream",
          "name": "stderr",
          "text": [
            "Epoch: 100%|██████████| 50/50 [28:41<00:00, 34.43s/it]\n"
          ]
        }
      ]
    },
    {
      "cell_type": "code",
      "metadata": {
        "id": "OccdKydIbE8O"
      },
      "source": [
        "with torch.no_grad():\n",
        "    x_g = torch.randn(batch_size, input_generator).to(device=device)\n",
        "    gen_digits = generator(x_g)"
      ],
      "execution_count": 14,
      "outputs": []
    },
    {
      "cell_type": "code",
      "metadata": {
        "colab": {
          "base_uri": "https://localhost:8080/",
          "height": 252
        },
        "id": "iemjdaNFbE6H",
        "outputId": "9be48f8a-2738-4542-c17d-761914275c2b"
      },
      "source": [
        "gen_digits = gen_digits.cpu().detach()\n",
        "for i in range(16):\n",
        "    ax = plt.subplot(4, 4, i + 1)\n",
        "    plt.imshow(gen_digits[i].reshape(28, 28), cmap=\"gray_r\")\n",
        "    plt.xticks([])\n",
        "    plt.yticks([])"
      ],
      "execution_count": 15,
      "outputs": [
        {
          "output_type": "display_data",
          "data": {
            "image/png": "[encoded data removed]",
            "text/plain": [
              "<Figure size 432x288 with 16 Axes>"
            ]
          },
          "metadata": {}
        }
      ]
    },
    {
      "cell_type": "code",
      "metadata": {
        "id": "82qJIdymbEyi"
      },
      "source": [
        "132"
      ],
      "execution_count": null,
      "outputs": []
    },
    {
      "cell_type": "code",
      "metadata": {
        "id": "C05t9l-jQMBY"
      },
      "source": [
        ""
      ],
      "execution_count": null,
      "outputs": []
    },
    {
      "cell_type": "code",
      "metadata": {
        "id": "Y1bPFeCjQL-5"
      },
      "source": [
        ""
      ],
      "execution_count": null,
      "outputs": []
    }
  ]
}