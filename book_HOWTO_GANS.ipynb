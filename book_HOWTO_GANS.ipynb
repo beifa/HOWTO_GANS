{
  "nbformat": 4,
  "nbformat_minor": 0,
  "metadata": {
    "colab": {
      "name": "book_HOWTO_GANS.ipynb",
      "provenance": [],
      "collapsed_sections": [],
      "authorship_tag": "ABX9TyNd5R9dk7daAZ/wL0uhvTNc"
    },
    "kernelspec": {
      "name": "python3",
      "display_name": "Python 3"
    },
    "language_info": {
      "name": "python"
    }
  },
  "cells": [
    {
      "cell_type": "markdown",
      "metadata": {
        "id": "HK3c5Z29sQzV"
      },
      "source": [
        "## Chapter 1"
      ]
    },
    {
      "cell_type": "markdown",
      "metadata": {
        "id": "Jy5iS4QTsHFy"
      },
      "source": [
        "###What are Generative Adversarial Networks\n",
        "\n",
        "Генеративные состязательные сети, или сокращенно GAN, представляют собой подход к генеративному моделированию.\n",
        "с использованием методов глубокого обучения, таких как сверточные нейронные сети.\n",
        "\n",
        "#### Генеративное моделирование - это\n",
        "задача обучения без учителя в машинном обучении, которая включает в себя автоматическое обнаружение и\n",
        "изучение закономерностей или закономерностей во входных данных таким образом, чтобы модель могла быть использована для генерировать или выводить новые примеры, которые, вероятно, могли быть взяты из исходного набора данных.\n",
        "\n",
        "GAN - это умный способ обучения генеративной модели, представляющий проблему как контролируемую\n",
        "проблема обучения с двумя подмоделями:\n",
        "- модель генератора, которую мы обучаем для создания новых примеры и \n",
        "- модель дискриминатора, которая пытается классифицировать примеры как реальные (из\n",
        "домен) или поддельный (сгенерированный).\n",
        "\n",
        "Две модели обучаются вместе в состязательной игре с нулевой суммой, до тех пор, пока модель дискриминатора не обманут примерно половину времени, то есть модель генератора генерирует правдоподобные примеры.\n",
        "\n",
        "\n",
        "**Модель обучена путем демонстрации примеров входных данных, прогнозирования выходных данных и корректировки модели для того чтобы сделать результаты более похожими на ожидаемые.**\n",
        "\n",
        "1. Генератор. Модель, которая используется для создания новых правдоподобных примеров из проблемы\n",
        "домен.\n",
        "2. Дискриминатор. Модель, которая используется для классификации примеров как реальных (из предметной области) или поддельный (сгенерированный).\n",
        "\n",
        "Генеративные состязательные сети основаны на теоретико-игровом сценарии, в котором\n",
        "сеть генератора должна конкурировать с противником. Генераторная сеть непосредственно производит образцы. Его противник, дискриминаторная сеть, пытается\n",
        "различать выборки, взятые из обучающих данных, и выборки, взятые из генератор.\n",
        "\n",
        "\n",
        "#### Модель генератора\n",
        "Модель генератора принимает случайный вектор фиксированной длины в качестве входных данных и генерирует выборку в домен, например изображение. Вектор выбирается случайным образом из гауссова распределения и имеет вид используется в качестве затравки или источника шума для генеративного процесса. Чтобы было ясно, вход - это вектор случайные числа. Это не изображение или сплющенное изображение и не имеет другого значения, кроме\n",
        "значение, применяемое моделью генератора. После тренировки точки в этом многомерном векторе\n",
        "пространство будет соответствовать точкам в проблемной области, образуя сжатое представление\n",
        "распределения данных. Это векторное пространство называется скрытым пространством или векторным пространством, состоит из скрытых переменных.\n",
        "\n",
        "Скрытые переменные или скрытые переменные - это те переменные, которые важны для домена, но не наблюдаются напрямую.\n",
        "Скрытая переменная - это случайная величина, которую мы не можем наблюдать напрямую.\n",
        "\n",
        "Мы часто называем скрытые переменные или скрытое пространство проекцией или сжатием\n",
        "распределение данных. То есть скрытое пространство обеспечивает сжатие или высокоуровневые концепции\n",
        "наблюдаемые необработанные данные, такие как распределение входных данных. \n",
        "\n",
        "####Модель дискриминатора\n",
        "Модель дискриминатора берет пример из проблемной области в качестве входных данных (реальных или сгенерированных).\n",
        "и предсказывает метку двоичного класса, настоящую или фальшивую (сгенерированную). Настоящий пример исходит из\n",
        "набор обучающих данных. Сгенерированные примеры выводятся моделью генератора. Дискриминатор это нормальная классификационная модель.\n",
        "\n",
        "После процесса обучения модель дискриминатора отбрасывается, так как нас интересует\n",
        "генератор. "
      ]
    },
    {
      "cell_type": "markdown",
      "metadata": {
        "id": "jxk1F_DJ7VAa"
      },
      "source": [
        "Генератор генерирует партию образцов, и они вместе с реальными примеры из домена предоставляются дискриминатору и классифицируются как настоящие или поддельные.\n",
        "\n",
        "Затем дискриминатор обновляется, чтобы лучше различать реальные и поддельные образцы.\n",
        "\n",
        "В следующем раунде, что важно, генератор обновляется в зависимости от того, насколько хорошо или нет\n",
        "сгенерированные выборки обманули дискриминатор."
      ]
    },
    {
      "cell_type": "markdown",
      "metadata": {
        "id": "loIRqjx0-H2L"
      },
      "source": [
        "## Chapter2"
      ]
    },
    {
      "cell_type": "markdown",
      "metadata": {
        "id": "SOLyfGkX-PM5"
      },
      "source": [
        "###How to Develop Deep Learning Models\n",
        "\n",
        "Upsampling\n",
        "повышающая дискретизация слой, который просто удваивает размеры входного и транспонированного сверточного слоя который выполняет операцию обратной свертки.\n",
        "\n",
        "Транспонированный сверточный слой сложнее простого слоя с повышающей дискретизацией. Просто способ думать об этом заключается в том, что он одновременно выполняет операцию повышения дискретизации и интерпретирует грубую\n",
        "входные данные для заполнения деталей при повышении дискретизации"
      ]
    },
    {
      "cell_type": "markdown",
      "metadata": {
        "id": "y4escmM9QvFD"
      },
      "source": [
        "##Chapter 4\n"
      ]
    },
    {
      "cell_type": "markdown",
      "metadata": {
        "id": "mLUHBA_XQyUn"
      },
      "source": [
        "###How to Implement the GAN Training\n",
        "\n",
        "Внешний цикл алгоритм включает в себя итерацию шагов для обучения моделей в архитектуре. Один цикл\n",
        "через этот цикл не эпоха: это единичное обновление, состоящее из определенных пакетных обновлений для\n",
        "модели дискриминатора и генератора. Эпоха определяется как один цикл через набор обучающих данных,\n",
        "где образцы в наборе обучающих данных используются для обновления весов модели в мини-пакетах.\n",
        "```\n",
        "# gan training algorithm\n",
        "def train_gan(dataset, n_epochs, n_batch):\n",
        "    batches_per_epoch = int(len(dataset) / n_batch)\n",
        "    n_steps = batches_per_epoch * n_epochs\n",
        "    for i in range(n_steps):\n",
        "        # update the discriminator model\n",
        "        # ...\n",
        "        # update the generator model\n",
        "        # ...\n",
        "```\n",
        "\n",
        "Loss:\n",
        "\n",
        "Модель дискриминатора будет обучена предсказывать вероятность реальности данного входное изображение, которое можно интерпретировать как метку класса class = 0 для подделки и class = 1 для реального.\n",
        "\n",
        "Генератор обучен максимизировать дискриминатор, предсказывающий высокую вероятность класса = 1\n",
        "для сгенерированных (поддельных) изображений.\n",
        "\n",
        "Например, если дискриминатор предсказывает низкую среднюю вероятность быть реальным для\n",
        "пакет сгенерированных изображений, то это приведет к распространению большого сигнала ошибки в обратном направлении в генератор с учетом ожидаемой вероятности для образцов было 1,0 для реального. Этот большой\n",
        "сигнал ошибки, в свою очередь, приводит к относительно большим изменениям в генераторе, чтобы, надеюсь, улучшить его возможность создания поддельных образцов в следующей партии.\n",
        "\n",
        "https://github.com/soumith/ganhacks\n",
        "hacks more stable train gans:\n",
        "- downsample, stride of (1,1) to change it to (2,2)\n",
        "- Conv2DTranspose\n",
        "- Use Leaky ReLU\n",
        "- Use Batch Normalization\n",
        "- Use Gaussian Weight Initialization\n",
        "- Use Adam Stochastic Gradient Descent\n",
        "- Scale Images to the Range [-1,1]\n",
        "Рекомендуется использовать функцию активации гиперболического тангенса в качестве выхода из\n",
        "модель генератора. Таким образом, также рекомендуется, чтобы реальные изображения, используемые для обучения дискриминатора масштабируются так, чтобы их значения пикселей находились в диапазоне [-1,1]. Это сделано для того, чтобы дискриминатор всегда будет получать изображения в качестве входных, настоящие и поддельные, которые имеют значения пикселей в одном и том же диапазоне.\n",
        "\n",
        "-Separate Batches of Real and Fake Images\n",
        "Модель дискриминатора обучается с использованием стохастического градиентного спуска с минипакетами. В\n",
        "Лучше всего обновлять дискриминатор отдельными партиями реальных и поддельных изображений.\n",
        "чем объединение реальных и поддельных изображений в один пакет\n",
        "```\n",
        "X_real, y_real = ...\n",
        "discriminator.train_on_batch(X_real, y_real)\n",
        "X_fake, y_fake = ...\n",
        "discriminator.train_on_batch(X_fake, y_fake)\n",
        "```\n",
        "- Use Label Smoothing\n",
        "Рекомендуется использовать программные метки, например значения немного больше или меньше.\n",
        "чем 1,0 или чуть больше 0,0 для реальных и поддельных изображений соответственно, где вариация для\n",
        "каждое изображение случайное.\n",
        "```\n",
        "# example of smoothing class=1 to [0.7, 1.2]\n",
        "def smooth_positive_labels(y):\n",
        "return y - 0.3 + (random(y.shape) * 0.5)\n",
        "```\n",
        "- Use Noisy Labels\n",
        "создание 1000 образцов реальных (класс = 1) этикеток и их переворачивание с вероятностью 5%, затем\n",
        "проделать то же самое с 1000 образцами поддельных (класс = 0) этикеток"
      ]
    },
    {
      "cell_type": "markdown",
      "metadata": {
        "id": "VsAw9wiL-ANT"
      },
      "source": [
        "## Chapter 6(GAN Basics)\n",
        "\n"
      ]
    },
    {
      "cell_type": "markdown",
      "metadata": {
        "id": "tYqmhbGNawt9"
      },
      "source": [
        "### 1D GAN"
      ]
    },
    {
      "cell_type": "code",
      "metadata": {
        "id": "iQEgq4G1sGJ6"
      },
      "source": [
        "import torch\n",
        "import torch.nn as nn\n",
        "import torch.optim as optim\n",
        "import numpy as np\n",
        "import matplotlib.pyplot as plt"
      ],
      "execution_count": 90,
      "outputs": []
    },
    {
      "cell_type": "code",
      "metadata": {
        "id": "CfZ_7Wzw02DZ",
        "colab": {
          "base_uri": "https://localhost:8080/",
          "height": 282
        },
        "outputId": "28e49358-5e48-482b-a581-0fc26d047c07"
      },
      "source": [
        "def func(n: int) -> int:\n",
        "    x = torch.randn(n, dtype=torch.float32)\n",
        "    xx = x * x\n",
        "    x = x.reshape(n,1)\n",
        "    xx = xx.reshape(n,1)\n",
        "    data = torch.hstack((x, xx))\n",
        "    return data\n",
        "\n",
        "data = func(100)\n",
        "plt.plot(data[:, 0], data[:, 1], '.')"
      ],
      "execution_count": 119,
      "outputs": [
        {
          "output_type": "execute_result",
          "data": {
            "text/plain": [
              "[<matplotlib.lines.Line2D at 0x7fac20782790>]"
            ]
          },
          "metadata": {},
          "execution_count": 119
        },
        {
          "output_type": "display_data",
          "data": {
            "image/png": "[encoded data removed]",
            "text/plain": [
              "<Figure size 432x288 with 1 Axes>"
            ]
          },
          "metadata": {
            "needs_background": "light"
          }
        }
      ]
    },
    {
      "cell_type": "code",
      "metadata": {
        "id": "xWh3TXWm0191",
        "colab": {
          "base_uri": "https://localhost:8080/"
        },
        "outputId": "17af7f84-96e5-487b-9c21-59fec8f5764c"
      },
      "source": [
        "class Desc_r(nn.Module):\n",
        "    \"\"\"   \n",
        "    Дискриминатор - это модель с двумерным входом и одномерным выходом. \n",
        "    Он получит выборку из реальных данных или от генератора и обеспечит\n",
        "    вероятность того, что выборка принадлежит реальным обучающим данным.    \n",
        "    \"\"\"\n",
        "\n",
        "    def __init__(self, input: int):\n",
        "        super().__init__()\n",
        "        self.model = nn.Sequential(\n",
        "            nn.Linear(2, 128),\n",
        "            nn.ReLU(),        \n",
        "            nn.Linear(128, 64),\n",
        "            nn.ReLU(),    \n",
        "            nn.Linear(64, 1),\n",
        "            nn.Sigmoid(),\n",
        "        )\n",
        "\n",
        "    def forward(self, data):\n",
        "        x = self.model(data)\n",
        "        return x\n",
        "\n",
        "\n",
        "class Gener_r(nn.Module):\n",
        "    \"\"\"\n",
        "    генератор - это модель, которая берет на вход выборки из скрытого \n",
        "    пространства и генерирует данные, похожие на данные в обучающем наборе.\n",
        "    \"\"\"\n",
        "\n",
        "    def __init__(self, input: int):\n",
        "        super().__init__()\n",
        "        self.model = nn.Sequential(\n",
        "            nn.Linear(2, 32),\n",
        "            nn.ReLU(),\n",
        "            nn.Linear(32, 12),\n",
        "            nn.ReLU(),\n",
        "            nn.Linear(12, 2),\n",
        "        )\n",
        "\n",
        "    def forward(self, data):\n",
        "        x = self.model(data)\n",
        "        return x\n",
        "\n",
        "    \n",
        "\n",
        "batch = 32\n",
        "epochs = 1000\n",
        "d_model = Desc_r(input = 2)\n",
        "g_model = Gener_r(input = 2)\n",
        "loss = nn.BCELoss()\n",
        "d_opt = optim.Adam(d_model.parameters())\n",
        "g_opt = optim.Adam(g_model.parameters())\n",
        "\n",
        "\n",
        "\n",
        "tr_loader = torch.utils.data.DataLoader(data, batch_size=batch, shuffle=True, drop_last=True)\n",
        "for ep in range(epochs):\n",
        "    for x in tr_loader:\n",
        "        label = torch.ones((batch, 1))\n",
        "        generator_label = torch.zeros((batch, 1))\n",
        "\n",
        "        fake = torch.randn((batch, 2))\n",
        "        fake_generator = g_model(fake)\n",
        "        \"\"\"\n",
        "        make data:\n",
        "        [\n",
        "            ori, ori, label ori,\n",
        "            0.34, 0,12, 1\n",
        "            ...\n",
        "            fake, fake, fake label,\n",
        "            0.32, 0.10, 0\n",
        "        ]\n",
        "        ori_data batch = 32, len data = 32\n",
        "        fake data batch = 32, len data = 32\n",
        "            cat = [64, 2]\n",
        "        \"\"\"\n",
        "        sample = torch.cat((x, fake_generator))\n",
        "        label_sample = torch.cat((label, generator_label))\n",
        "\n",
        "        #train disc\n",
        "        d_model.zero_grad()\n",
        "        d_out = d_model(sample)\n",
        "        d_loss = loss(d_out, label_sample)\n",
        "        d_loss.backward()\n",
        "        d_opt.step()\n",
        "\n",
        "        #train gen\n",
        "        fake = torch.randn((batch, 2))\n",
        "        g_model.zero_grad()\n",
        "        fake_generator = g_model(fake)\n",
        "        g_d_out = d_model(fake_generator)\n",
        "        g_d_loss = loss(g_d_out, label)\n",
        "        g_d_loss.backward()\n",
        "        g_opt.step()\n",
        "\n",
        "\n",
        "    # Show loss\n",
        "    if ep % 200 == 0:\n",
        "        print(f\"Epoch: {ep} Loss D.: {d_loss}\")\n",
        "        print(f\"Epoch: {ep} Loss G.: {g_d_loss}\")"
      ],
      "execution_count": 123,
      "outputs": [
        {
          "output_type": "stream",
          "name": "stdout",
          "text": [
            "Epoch: 0 Loss D.: 0.6760867238044739\n",
            "Epoch: 0 Loss G.: 0.6170979738235474\n",
            "Epoch: 200 Loss D.: 0.646969199180603\n",
            "Epoch: 200 Loss G.: 0.8386499881744385\n",
            "Epoch: 400 Loss D.: 0.643828272819519\n",
            "Epoch: 400 Loss G.: 0.6954761743545532\n",
            "Epoch: 600 Loss D.: 0.6757112741470337\n",
            "Epoch: 600 Loss G.: 0.7397779226303101\n",
            "Epoch: 800 Loss D.: 0.6681113839149475\n",
            "Epoch: 800 Loss G.: 0.8450835943222046\n"
          ]
        }
      ]
    },
    {
      "cell_type": "code",
      "metadata": {
        "id": "tRNrnKCP93-w"
      },
      "source": [
        "latent_space_samples = torch.randn(100, 2)\n",
        "generated_samples = g_model(latent_space_samples)"
      ],
      "execution_count": 124,
      "outputs": []
    },
    {
      "cell_type": "code",
      "metadata": {
        "colab": {
          "base_uri": "https://localhost:8080/",
          "height": 282
        },
        "id": "Xx8Ge0K6938h",
        "outputId": "1813951c-a966-4409-d8b7-334a02a85a84"
      },
      "source": [
        "generated_samples = generated_samples.detach()\n",
        "plt.plot(generated_samples[:, 0], generated_samples[:, 1], \".\")"
      ],
      "execution_count": 125,
      "outputs": [
        {
          "output_type": "execute_result",
          "data": {
            "text/plain": [
              "[<matplotlib.lines.Line2D at 0x7fac206905d0>]"
            ]
          },
          "metadata": {},
          "execution_count": 125
        },
        {
          "output_type": "display_data",
          "data": {
            "image/png": "[encoded data removed]",
            "text/plain": [
              "<Figure size 432x288 with 1 Axes>"
            ]
          },
          "metadata": {
            "needs_background": "light"
          }
        }
      ]
    },
    {
      "cell_type": "markdown",
      "metadata": {
        "id": "sGEqXg0keHV4"
      },
      "source": [
        "###2D\n"
      ]
    },
    {
      "cell_type": "code",
      "metadata": {
        "id": "sVRUVmoM933b"
      },
      "source": [
        ""
      ],
      "execution_count": null,
      "outputs": []
    },
    {
      "cell_type": "code",
      "metadata": {
        "id": "px8CSPvihqgb"
      },
      "source": [
        ""
      ],
      "execution_count": 66,
      "outputs": []
    },
    {
      "cell_type": "code",
      "metadata": {
        "id": "LMbnNvvEw82t"
      },
      "source": [
        ""
      ],
      "execution_count": null,
      "outputs": []
    },
    {
      "cell_type": "code",
      "metadata": {
        "id": "yI-h1bdOw8v1"
      },
      "source": [
        ""
      ],
      "execution_count": null,
      "outputs": []
    },
    {
      "cell_type": "code",
      "metadata": {
        "id": "z4hEg3qRw8tn"
      },
      "source": [
        ""
      ],
      "execution_count": null,
      "outputs": []
    }
  ]
}