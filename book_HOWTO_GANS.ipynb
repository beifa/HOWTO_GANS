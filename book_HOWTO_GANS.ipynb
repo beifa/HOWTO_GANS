{
  "nbformat": 4,
  "nbformat_minor": 0,
  "metadata": {
    "colab": {
      "name": "book_HOWTO_GANS.ipynb",
      "provenance": [],
      "collapsed_sections": [],
      "authorship_tag": "ABX9TyO8Bv11/+6226OkyvkV/SaY"
    },
    "kernelspec": {
      "name": "python3",
      "display_name": "Python 3"
    },
    "language_info": {
      "name": "python"
    }
  },
  "cells": [
    {
      "cell_type": "markdown",
      "metadata": {
        "id": "HK3c5Z29sQzV"
      },
      "source": [
        "## Chapter 1"
      ]
    },
    {
      "cell_type": "markdown",
      "metadata": {
        "id": "Jy5iS4QTsHFy"
      },
      "source": [
        "###What are Generative Adversarial Networks\n",
        "\n",
        "Генеративные состязательные сети, или сокращенно GAN, представляют собой подход к генеративному моделированию.\n",
        "с использованием методов глубокого обучения, таких как сверточные нейронные сети.\n",
        "\n",
        "#### Генеративное моделирование - это\n",
        "задача обучения без учителя в машинном обучении, которая включает в себя автоматическое обнаружение и\n",
        "изучение закономерностей или закономерностей во входных данных таким образом, чтобы модель могла быть использована для генерировать или выводить новые примеры, которые, вероятно, могли быть взяты из исходного набора данных.\n",
        "\n",
        "GAN - это умный способ обучения генеративной модели, представляющий проблему как контролируемую\n",
        "проблема обучения с двумя подмоделями:\n",
        "- модель генератора, которую мы обучаем для создания новых примеры и \n",
        "- модель дискриминатора, которая пытается классифицировать примеры как реальные (из\n",
        "домен) или поддельный (сгенерированный).\n",
        "\n",
        "Две модели обучаются вместе в состязательной игре с нулевой суммой, до тех пор, пока модель дискриминатора не обманут примерно половину времени, то есть модель генератора генерирует правдоподобные примеры.\n",
        "\n",
        "\n",
        "**Модель обучена путем демонстрации примеров входных данных, прогнозирования выходных данных и корректировки модели для того чтобы сделать результаты более похожими на ожидаемые.**\n",
        "\n",
        "1. Генератор. Модель, которая используется для создания новых правдоподобных примеров из проблемы\n",
        "домен.\n",
        "2. Дискриминатор. Модель, которая используется для классификации примеров как реальных (из предметной области) или поддельный (сгенерированный).\n",
        "\n",
        "Генеративные состязательные сети основаны на теоретико-игровом сценарии, в котором\n",
        "сеть генератора должна конкурировать с противником. Генераторная сеть непосредственно производит образцы. Его противник, дискриминаторная сеть, пытается\n",
        "различать выборки, взятые из обучающих данных, и выборки, взятые из генератор.\n",
        "\n",
        "\n",
        "#### Модель генератора\n",
        "Модель генератора принимает случайный вектор фиксированной длины в качестве входных данных и генерирует выборку в домен, например изображение. Вектор выбирается случайным образом из гауссова распределения и имеет вид используется в качестве затравки или источника шума для генеративного процесса. Чтобы было ясно, вход - это вектор случайные числа. Это не изображение или сплющенное изображение и не имеет другого значения, кроме\n",
        "значение, применяемое моделью генератора. После тренировки точки в этом многомерном векторе\n",
        "пространство будет соответствовать точкам в проблемной области, образуя сжатое представление\n",
        "распределения данных. Это векторное пространство называется скрытым пространством или векторным пространством, состоит из скрытых переменных.\n",
        "\n",
        "Скрытые переменные или скрытые переменные - это те переменные, которые важны для домена, но не наблюдаются напрямую.\n",
        "Скрытая переменная - это случайная величина, которую мы не можем наблюдать напрямую.\n",
        "\n",
        "Мы часто называем скрытые переменные или скрытое пространство проекцией или сжатием\n",
        "распределение данных. То есть скрытое пространство обеспечивает сжатие или высокоуровневые концепции\n",
        "наблюдаемые необработанные данные, такие как распределение входных данных. \n",
        "\n",
        "####Модель дискриминатора\n",
        "Модель дискриминатора берет пример из проблемной области в качестве входных данных (реальных или сгенерированных).\n",
        "и предсказывает метку двоичного класса, настоящую или фальшивую (сгенерированную). Настоящий пример исходит из\n",
        "набор обучающих данных. Сгенерированные примеры выводятся моделью генератора. Дискриминатор это нормальная классификационная модель.\n",
        "\n",
        "После процесса обучения модель дискриминатора отбрасывается, так как нас интересует\n",
        "генератор. "
      ]
    },
    {
      "cell_type": "markdown",
      "metadata": {
        "id": "jxk1F_DJ7VAa"
      },
      "source": [
        "Генератор генерирует партию образцов, и они вместе с реальными примеры из домена предоставляются дискриминатору и классифицируются как настоящие или поддельные.\n",
        "\n",
        "Затем дискриминатор обновляется, чтобы лучше различать реальные и поддельные образцы.\n",
        "\n",
        "В следующем раунде, что важно, генератор обновляется в зависимости от того, насколько хорошо или нет\n",
        "сгенерированные выборки обманули дискриминатор."
      ]
    },
    {
      "cell_type": "markdown",
      "metadata": {
        "id": "loIRqjx0-H2L"
      },
      "source": [
        "## Chapter2"
      ]
    },
    {
      "cell_type": "markdown",
      "metadata": {
        "id": "SOLyfGkX-PM5"
      },
      "source": [
        "###How to Develop Deep Learning Models\n",
        "\n",
        "Upsampling\n",
        "повышающая дискретизация слой, который просто удваивает размеры входного и транспонированного сверточного слоя который выполняет операцию обратной свертки.\n",
        "\n",
        "Транспонированный сверточный слой сложнее простого слоя с повышающей дискретизацией. Просто способ думать об этом заключается в том, что он одновременно выполняет операцию повышения дискретизации и интерпретирует грубую\n",
        "входные данные для заполнения деталей при повышении дискретизации"
      ]
    },
    {
      "cell_type": "markdown",
      "metadata": {
        "id": "y4escmM9QvFD"
      },
      "source": [
        "##Chapter 4\n"
      ]
    },
    {
      "cell_type": "markdown",
      "metadata": {
        "id": "mLUHBA_XQyUn"
      },
      "source": [
        "###How to Implement the GAN Training\n",
        "\n",
        "Внешний цикл алгоритм включает в себя итерацию шагов для обучения моделей в архитектуре. Один цикл\n",
        "через этот цикл не эпоха: это единичное обновление, состоящее из определенных пакетных обновлений для\n",
        "модели дискриминатора и генератора. Эпоха определяется как один цикл через набор обучающих данных,\n",
        "где образцы в наборе обучающих данных используются для обновления весов модели в мини-пакетах.\n",
        "```\n",
        "# gan training algorithm\n",
        "def train_gan(dataset, n_epochs, n_batch):\n",
        "    batches_per_epoch = int(len(dataset) / n_batch)\n",
        "    n_steps = batches_per_epoch * n_epochs\n",
        "    for i in range(n_steps):\n",
        "        # update the discriminator model\n",
        "        # ...\n",
        "        # update the generator model\n",
        "        # ...\n",
        "```\n",
        "\n",
        "Loss:\n",
        "\n",
        "Модель дискриминатора будет обучена предсказывать вероятность реальности данного входное изображение, которое можно интерпретировать как метку класса class = 0 для подделки и class = 1 для реального.\n",
        "\n",
        "Генератор обучен максимизировать дискриминатор, предсказывающий высокую вероятность класса = 1\n",
        "для сгенерированных (поддельных) изображений.\n",
        "\n",
        "Например, если дискриминатор предсказывает низкую среднюю вероятность быть реальным для\n",
        "пакет сгенерированных изображений, то это приведет к распространению большого сигнала ошибки в обратном направлении в генератор с учетом ожидаемой вероятности для образцов было 1,0 для реального. Этот большой\n",
        "сигнал ошибки, в свою очередь, приводит к относительно большим изменениям в генераторе, чтобы, надеюсь, улучшить его возможность создания поддельных образцов в следующей партии.\n",
        "\n",
        "https://github.com/soumith/ganhacks\n",
        "hacks more stable train gans:\n",
        "- downsample, stride of (1,1) to change it to (2,2)\n",
        "- Conv2DTranspose\n",
        "- Use Leaky ReLU\n",
        "- Use Batch Normalization\n",
        "- Use Gaussian Weight Initialization\n",
        "- Use Adam Stochastic Gradient Descent\n",
        "- Scale Images to the Range [-1,1]\n",
        "Рекомендуется использовать функцию активации гиперболического тангенса в качестве выхода из\n",
        "модель генератора. Таким образом, также рекомендуется, чтобы реальные изображения, используемые для обучения дискриминатора масштабируются так, чтобы их значения пикселей находились в диапазоне [-1,1]. Это сделано для того, чтобы дискриминатор всегда будет получать изображения в качестве входных, настоящие и поддельные, которые имеют значения пикселей в одном и том же диапазоне.\n",
        "\n",
        "-Separate Batches of Real and Fake Images\n",
        "Модель дискриминатора обучается с использованием стохастического градиентного спуска с минипакетами. В\n",
        "Лучше всего обновлять дискриминатор отдельными партиями реальных и поддельных изображений.\n",
        "чем объединение реальных и поддельных изображений в один пакет\n",
        "```\n",
        "X_real, y_real = ...\n",
        "discriminator.train_on_batch(X_real, y_real)\n",
        "X_fake, y_fake = ...\n",
        "discriminator.train_on_batch(X_fake, y_fake)\n",
        "```\n",
        "- Use Label Smoothing\n",
        "Рекомендуется использовать программные метки, например значения немного больше или меньше.\n",
        "чем 1,0 или чуть больше 0,0 для реальных и поддельных изображений соответственно, где вариация для\n",
        "каждое изображение случайное.\n",
        "```\n",
        "# example of smoothing class=1 to [0.7, 1.2]\n",
        "def smooth_positive_labels(y):\n",
        "return y - 0.3 + (random(y.shape) * 0.5)\n",
        "```\n",
        "- Use Noisy Labels\n",
        "создание 1000 образцов реальных (класс = 1) этикеток и их переворачивание с вероятностью 5%, затем\n",
        "проделать то же самое с 1000 образцами поддельных (класс = 0) этикеток"
      ]
    },
    {
      "cell_type": "markdown",
      "metadata": {
        "id": "VsAw9wiL-ANT"
      },
      "source": [
        "## Chapter 6(GAN Basics)\n",
        "\n"
      ]
    },
    {
      "cell_type": "code",
      "metadata": {
        "id": "iQEgq4G1sGJ6"
      },
      "source": [
        "import torch\n",
        "import torch.nn as nn\n",
        "import numpy as np\n",
        "import matplotlib.pyplot as plt"
      ],
      "execution_count": null,
      "outputs": []
    },
    {
      "cell_type": "code",
      "metadata": {
        "id": "CfZ_7Wzw02DZ",
        "colab": {
          "base_uri": "https://localhost:8080/",
          "height": 282
        },
        "outputId": "1f73a04b-4d82-4e16-8d2b-d9d1c2da7391"
      },
      "source": [
        "def func(n: int) -> int:\n",
        "    x = np.random.rand(n)-0.5\n",
        "    xx = x*x\n",
        "    x = x.reshape(n,1)\n",
        "    xx = xx.reshape(n,1)\n",
        "    data = np.hstack((x, xx))\n",
        "    return data\n",
        "\n",
        "data = func(100)\n",
        "plt.scatter(data[:, 0], data[:, 1])"
      ],
      "execution_count": null,
      "outputs": [
        {
          "output_type": "execute_result",
          "data": {
            "text/plain": [
              "<matplotlib.collections.PathCollection at 0x7f0c49aeecd0>"
            ]
          },
          "metadata": {},
          "execution_count": 12
        },
        {
          "output_type": "display_data",
          "data": {
            "image/png": "[encoded data removed]",
            "text/plain": [
              "<Figure size 432x288 with 1 Axes>"
            ]
          },
          "metadata": {
            "needs_background": "light"
          }
        }
      ]
    },
    {
      "cell_type": "code",
      "metadata": {
        "id": "QYT01bTz02BD"
      },
      "source": [
        "def discriminator(input_num: int = 2):\n",
        "    "
      ],
      "execution_count": null,
      "outputs": []
    },
    {
      "cell_type": "code",
      "metadata": {
        "colab": {
          "base_uri": "https://localhost:8080/"
        },
        "id": "WEcsFUnrCvBf",
        "outputId": "71a85c4b-155c-4e37-fbde-7463491f8cba"
      },
      "source": [
        "model = nn.Sequential(\n",
        "    nn.Linear(2, 25),\n",
        "    nn.ReLU(),\n",
        "    nn.Linear(25, 1),\n",
        "    nn.Sigmoid()\n",
        ")"
      ],
      "execution_count": null,
      "outputs": [
        {
          "output_type": "execute_result",
          "data": {
            "text/plain": [
              "Sequential(\n",
              "  (0): Linear(in_features=2, out_features=25, bias=True)\n",
              "  (1): ReLU()\n",
              "  (2): Linear(in_features=25, out_features=1, bias=True)\n",
              "  (3): Sigmoid()\n",
              ")"
            ]
          },
          "metadata": {},
          "execution_count": 15
        }
      ]
    },
    {
      "cell_type": "code",
      "metadata": {
        "id": "ZfyLi7y7Cu8i"
      },
      "source": [
        ""
      ],
      "execution_count": null,
      "outputs": []
    },
    {
      "cell_type": "code",
      "metadata": {
        "id": "wbaDdXWLCu4z"
      },
      "source": [
        ""
      ],
      "execution_count": null,
      "outputs": []
    },
    {
      "cell_type": "code",
      "metadata": {
        "id": "xWh3TXWm0191"
      },
      "source": [
        "68"
      ],
      "execution_count": null,
      "outputs": []
    },
    {
      "cell_type": "code",
      "metadata": {
        "id": "0bxT-gyxW6Ys"
      },
      "source": [
        ""
      ],
      "execution_count": null,
      "outputs": []
    },
    {
      "cell_type": "code",
      "metadata": {
        "id": "IjKEfST3W6VT"
      },
      "source": [
        ""
      ],
      "execution_count": null,
      "outputs": []
    },
    {
      "cell_type": "code",
      "metadata": {
        "id": "n-RMo32Vw64n"
      },
      "source": [
        "https://github.com/soumith/ganhacks\n"
      ],
      "execution_count": null,
      "outputs": []
    },
    {
      "cell_type": "code",
      "metadata": {
        "id": "XUMyzgQ45Lvc"
      },
      "source": [
        "https://gereshes.com/2019/06/24/how-to-transfer-a-simple-keras-model-to-pytorch-the-hard-way/\n",
        "https://pytorch.org/tutorials/beginner/dcgan_faces_tutorial.html\n",
        "https://towardsdatascience.com/build-a-super-simple-gan-in-pytorch-54ba349920e4\n",
        "https://medium.com/@jetbootsmaker/gan-in-pytorch-5ad6dd89c9a3"
      ],
      "execution_count": null,
      "outputs": []
    }
  ]
}